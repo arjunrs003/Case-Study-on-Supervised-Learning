{
 "cells": [
  {
   "cell_type": "markdown",
   "id": "7ea99ad3",
   "metadata": {},
   "source": [
    "# Case study on Supervised learning"
   ]
  },
  {
   "cell_type": "code",
   "execution_count": 77,
   "id": "d39ecfac",
   "metadata": {},
   "outputs": [],
   "source": [
    "# importing libraries\n",
    "import pandas as pd\n",
    "import numpy as np\n",
    "import matplotlib.pyplot as plt\n",
    "import seaborn as sns"
   ]
  },
  {
   "cell_type": "markdown",
   "id": "dbb4b9d4",
   "metadata": {},
   "source": [
    "# 1. Read the dataset to the python environment"
   ]
  },
  {
   "cell_type": "code",
   "execution_count": 78,
   "id": "66791aa4",
   "metadata": {},
   "outputs": [],
   "source": [
    "df=pd.read_excel('iris.xls')"
   ]
  },
  {
   "cell_type": "code",
   "execution_count": 79,
   "id": "37c8c456",
   "metadata": {},
   "outputs": [
    {
     "data": {
      "text/html": [
       "<div>\n",
       "<style scoped>\n",
       "    .dataframe tbody tr th:only-of-type {\n",
       "        vertical-align: middle;\n",
       "    }\n",
       "\n",
       "    .dataframe tbody tr th {\n",
       "        vertical-align: top;\n",
       "    }\n",
       "\n",
       "    .dataframe thead th {\n",
       "        text-align: right;\n",
       "    }\n",
       "</style>\n",
       "<table border=\"1\" class=\"dataframe\">\n",
       "  <thead>\n",
       "    <tr style=\"text-align: right;\">\n",
       "      <th></th>\n",
       "      <th>SL</th>\n",
       "      <th>SW</th>\n",
       "      <th>PL</th>\n",
       "      <th>PW</th>\n",
       "      <th>Classification</th>\n",
       "    </tr>\n",
       "  </thead>\n",
       "  <tbody>\n",
       "    <tr>\n",
       "      <th>0</th>\n",
       "      <td>5.1</td>\n",
       "      <td>3.5</td>\n",
       "      <td>1.4</td>\n",
       "      <td>0.2</td>\n",
       "      <td>Iris-setosa</td>\n",
       "    </tr>\n",
       "    <tr>\n",
       "      <th>1</th>\n",
       "      <td>4.9</td>\n",
       "      <td>3.0</td>\n",
       "      <td>1.4</td>\n",
       "      <td>0.2</td>\n",
       "      <td>Iris-setosa</td>\n",
       "    </tr>\n",
       "    <tr>\n",
       "      <th>2</th>\n",
       "      <td>NaN</td>\n",
       "      <td>3.2</td>\n",
       "      <td>1.3</td>\n",
       "      <td>0.2</td>\n",
       "      <td>Iris-setosa</td>\n",
       "    </tr>\n",
       "    <tr>\n",
       "      <th>3</th>\n",
       "      <td>4.6</td>\n",
       "      <td>3.1</td>\n",
       "      <td>1.5</td>\n",
       "      <td>0.2</td>\n",
       "      <td>Iris-setosa</td>\n",
       "    </tr>\n",
       "    <tr>\n",
       "      <th>4</th>\n",
       "      <td>5.0</td>\n",
       "      <td>3.6</td>\n",
       "      <td>1.4</td>\n",
       "      <td>0.2</td>\n",
       "      <td>Iris-setosa</td>\n",
       "    </tr>\n",
       "  </tbody>\n",
       "</table>\n",
       "</div>"
      ],
      "text/plain": [
       "    SL   SW   PL   PW Classification\n",
       "0  5.1  3.5  1.4  0.2    Iris-setosa\n",
       "1  4.9  3.0  1.4  0.2    Iris-setosa\n",
       "2  NaN  3.2  1.3  0.2    Iris-setosa\n",
       "3  4.6  3.1  1.5  0.2    Iris-setosa\n",
       "4  5.0  3.6  1.4  0.2    Iris-setosa"
      ]
     },
     "execution_count": 79,
     "metadata": {},
     "output_type": "execute_result"
    }
   ],
   "source": [
    "df.head()"
   ]
  },
  {
   "cell_type": "code",
   "execution_count": 80,
   "id": "da89bf43",
   "metadata": {},
   "outputs": [
    {
     "data": {
      "text/html": [
       "<div>\n",
       "<style scoped>\n",
       "    .dataframe tbody tr th:only-of-type {\n",
       "        vertical-align: middle;\n",
       "    }\n",
       "\n",
       "    .dataframe tbody tr th {\n",
       "        vertical-align: top;\n",
       "    }\n",
       "\n",
       "    .dataframe thead th {\n",
       "        text-align: right;\n",
       "    }\n",
       "</style>\n",
       "<table border=\"1\" class=\"dataframe\">\n",
       "  <thead>\n",
       "    <tr style=\"text-align: right;\">\n",
       "      <th></th>\n",
       "      <th>SL</th>\n",
       "      <th>SW</th>\n",
       "      <th>PL</th>\n",
       "      <th>PW</th>\n",
       "      <th>Classification</th>\n",
       "    </tr>\n",
       "  </thead>\n",
       "  <tbody>\n",
       "    <tr>\n",
       "      <th>count</th>\n",
       "      <td>143.000000</td>\n",
       "      <td>144.000000</td>\n",
       "      <td>144.000000</td>\n",
       "      <td>150.000000</td>\n",
       "      <td>150</td>\n",
       "    </tr>\n",
       "    <tr>\n",
       "      <th>unique</th>\n",
       "      <td>NaN</td>\n",
       "      <td>NaN</td>\n",
       "      <td>NaN</td>\n",
       "      <td>NaN</td>\n",
       "      <td>3</td>\n",
       "    </tr>\n",
       "    <tr>\n",
       "      <th>top</th>\n",
       "      <td>NaN</td>\n",
       "      <td>NaN</td>\n",
       "      <td>NaN</td>\n",
       "      <td>NaN</td>\n",
       "      <td>Iris-virginica</td>\n",
       "    </tr>\n",
       "    <tr>\n",
       "      <th>freq</th>\n",
       "      <td>NaN</td>\n",
       "      <td>NaN</td>\n",
       "      <td>NaN</td>\n",
       "      <td>NaN</td>\n",
       "      <td>50</td>\n",
       "    </tr>\n",
       "    <tr>\n",
       "      <th>mean</th>\n",
       "      <td>5.855944</td>\n",
       "      <td>3.049306</td>\n",
       "      <td>3.756250</td>\n",
       "      <td>1.198667</td>\n",
       "      <td>NaN</td>\n",
       "    </tr>\n",
       "    <tr>\n",
       "      <th>std</th>\n",
       "      <td>0.828168</td>\n",
       "      <td>0.430644</td>\n",
       "      <td>1.761306</td>\n",
       "      <td>0.763161</td>\n",
       "      <td>NaN</td>\n",
       "    </tr>\n",
       "    <tr>\n",
       "      <th>min</th>\n",
       "      <td>4.300000</td>\n",
       "      <td>2.000000</td>\n",
       "      <td>1.000000</td>\n",
       "      <td>0.100000</td>\n",
       "      <td>NaN</td>\n",
       "    </tr>\n",
       "    <tr>\n",
       "      <th>25%</th>\n",
       "      <td>5.100000</td>\n",
       "      <td>2.800000</td>\n",
       "      <td>1.600000</td>\n",
       "      <td>0.300000</td>\n",
       "      <td>NaN</td>\n",
       "    </tr>\n",
       "    <tr>\n",
       "      <th>50%</th>\n",
       "      <td>5.800000</td>\n",
       "      <td>3.000000</td>\n",
       "      <td>4.350000</td>\n",
       "      <td>1.300000</td>\n",
       "      <td>NaN</td>\n",
       "    </tr>\n",
       "    <tr>\n",
       "      <th>75%</th>\n",
       "      <td>6.400000</td>\n",
       "      <td>3.300000</td>\n",
       "      <td>5.100000</td>\n",
       "      <td>1.800000</td>\n",
       "      <td>NaN</td>\n",
       "    </tr>\n",
       "    <tr>\n",
       "      <th>max</th>\n",
       "      <td>7.900000</td>\n",
       "      <td>4.400000</td>\n",
       "      <td>6.900000</td>\n",
       "      <td>2.500000</td>\n",
       "      <td>NaN</td>\n",
       "    </tr>\n",
       "  </tbody>\n",
       "</table>\n",
       "</div>"
      ],
      "text/plain": [
       "                SL          SW          PL          PW  Classification\n",
       "count   143.000000  144.000000  144.000000  150.000000             150\n",
       "unique         NaN         NaN         NaN         NaN               3\n",
       "top            NaN         NaN         NaN         NaN  Iris-virginica\n",
       "freq           NaN         NaN         NaN         NaN              50\n",
       "mean      5.855944    3.049306    3.756250    1.198667             NaN\n",
       "std       0.828168    0.430644    1.761306    0.763161             NaN\n",
       "min       4.300000    2.000000    1.000000    0.100000             NaN\n",
       "25%       5.100000    2.800000    1.600000    0.300000             NaN\n",
       "50%       5.800000    3.000000    4.350000    1.300000             NaN\n",
       "75%       6.400000    3.300000    5.100000    1.800000             NaN\n",
       "max       7.900000    4.400000    6.900000    2.500000             NaN"
      ]
     },
     "execution_count": 80,
     "metadata": {},
     "output_type": "execute_result"
    }
   ],
   "source": [
    "df.describe(include='all')"
   ]
  },
  {
   "cell_type": "code",
   "execution_count": 81,
   "id": "c169dfff",
   "metadata": {},
   "outputs": [
    {
     "data": {
      "text/plain": [
       "(150, 5)"
      ]
     },
     "execution_count": 81,
     "metadata": {},
     "output_type": "execute_result"
    }
   ],
   "source": [
    "df.shape"
   ]
  },
  {
   "cell_type": "code",
   "execution_count": 82,
   "id": "7f485f41",
   "metadata": {},
   "outputs": [
    {
     "name": "stdout",
     "output_type": "stream",
     "text": [
      "<class 'pandas.core.frame.DataFrame'>\n",
      "RangeIndex: 150 entries, 0 to 149\n",
      "Data columns (total 5 columns):\n",
      " #   Column          Non-Null Count  Dtype  \n",
      "---  ------          --------------  -----  \n",
      " 0   SL              143 non-null    float64\n",
      " 1   SW              144 non-null    float64\n",
      " 2   PL              144 non-null    float64\n",
      " 3   PW              150 non-null    float64\n",
      " 4   Classification  150 non-null    object \n",
      "dtypes: float64(4), object(1)\n",
      "memory usage: 6.0+ KB\n"
     ]
    }
   ],
   "source": [
    "df.info()"
   ]
  },
  {
   "cell_type": "markdown",
   "id": "2914a455",
   "metadata": {},
   "source": [
    "# 2. Do necessary pre-processing steps."
   ]
  },
  {
   "cell_type": "markdown",
   "id": "6dca4099",
   "metadata": {},
   "source": [
    "# lets do label encoding on classification feature"
   ]
  },
  {
   "cell_type": "code",
   "execution_count": 83,
   "id": "c0d1f1ae",
   "metadata": {},
   "outputs": [],
   "source": [
    "# lets do label encoding on classification feature\n",
    "from sklearn.preprocessing import LabelEncoder\n",
    "label_encoder=LabelEncoder()\n",
    "df['Classification']=label_encoder.fit_transform(df['Classification'])\n"
   ]
  },
  {
   "cell_type": "code",
   "execution_count": 84,
   "id": "99d0b9cd",
   "metadata": {},
   "outputs": [
    {
     "data": {
      "text/html": [
       "<div>\n",
       "<style scoped>\n",
       "    .dataframe tbody tr th:only-of-type {\n",
       "        vertical-align: middle;\n",
       "    }\n",
       "\n",
       "    .dataframe tbody tr th {\n",
       "        vertical-align: top;\n",
       "    }\n",
       "\n",
       "    .dataframe thead th {\n",
       "        text-align: right;\n",
       "    }\n",
       "</style>\n",
       "<table border=\"1\" class=\"dataframe\">\n",
       "  <thead>\n",
       "    <tr style=\"text-align: right;\">\n",
       "      <th></th>\n",
       "      <th>SL</th>\n",
       "      <th>SW</th>\n",
       "      <th>PL</th>\n",
       "      <th>PW</th>\n",
       "      <th>Classification</th>\n",
       "    </tr>\n",
       "  </thead>\n",
       "  <tbody>\n",
       "    <tr>\n",
       "      <th>0</th>\n",
       "      <td>5.1</td>\n",
       "      <td>3.5</td>\n",
       "      <td>1.4</td>\n",
       "      <td>0.2</td>\n",
       "      <td>0</td>\n",
       "    </tr>\n",
       "    <tr>\n",
       "      <th>1</th>\n",
       "      <td>4.9</td>\n",
       "      <td>3.0</td>\n",
       "      <td>1.4</td>\n",
       "      <td>0.2</td>\n",
       "      <td>0</td>\n",
       "    </tr>\n",
       "    <tr>\n",
       "      <th>2</th>\n",
       "      <td>NaN</td>\n",
       "      <td>3.2</td>\n",
       "      <td>1.3</td>\n",
       "      <td>0.2</td>\n",
       "      <td>0</td>\n",
       "    </tr>\n",
       "    <tr>\n",
       "      <th>3</th>\n",
       "      <td>4.6</td>\n",
       "      <td>3.1</td>\n",
       "      <td>1.5</td>\n",
       "      <td>0.2</td>\n",
       "      <td>0</td>\n",
       "    </tr>\n",
       "    <tr>\n",
       "      <th>4</th>\n",
       "      <td>5.0</td>\n",
       "      <td>3.6</td>\n",
       "      <td>1.4</td>\n",
       "      <td>0.2</td>\n",
       "      <td>0</td>\n",
       "    </tr>\n",
       "  </tbody>\n",
       "</table>\n",
       "</div>"
      ],
      "text/plain": [
       "    SL   SW   PL   PW  Classification\n",
       "0  5.1  3.5  1.4  0.2               0\n",
       "1  4.9  3.0  1.4  0.2               0\n",
       "2  NaN  3.2  1.3  0.2               0\n",
       "3  4.6  3.1  1.5  0.2               0\n",
       "4  5.0  3.6  1.4  0.2               0"
      ]
     },
     "execution_count": 84,
     "metadata": {},
     "output_type": "execute_result"
    }
   ],
   "source": [
    "df.head()"
   ]
  },
  {
   "cell_type": "code",
   "execution_count": 85,
   "id": "30934cb0",
   "metadata": {},
   "outputs": [
    {
     "data": {
      "text/plain": [
       "0    50\n",
       "1    50\n",
       "2    50\n",
       "Name: Classification, dtype: int64"
      ]
     },
     "execution_count": 85,
     "metadata": {},
     "output_type": "execute_result"
    }
   ],
   "source": [
    "df['Classification'].value_counts()"
   ]
  },
  {
   "cell_type": "markdown",
   "id": "9dda464f",
   "metadata": {},
   "source": [
    "# Handling Missing Values"
   ]
  },
  {
   "cell_type": "code",
   "execution_count": 86,
   "id": "0c483af4",
   "metadata": {},
   "outputs": [
    {
     "data": {
      "text/plain": [
       "SL                7\n",
       "SW                6\n",
       "PL                6\n",
       "PW                0\n",
       "Classification    0\n",
       "dtype: int64"
      ]
     },
     "execution_count": 86,
     "metadata": {},
     "output_type": "execute_result"
    }
   ],
   "source": [
    "\n",
    "df.isna().sum()"
   ]
  },
  {
   "cell_type": "markdown",
   "id": "f2c66046",
   "metadata": {},
   "source": [
    "There are some missing values in features SL,SW,PL"
   ]
  },
  {
   "cell_type": "markdown",
   "id": "2988ad04",
   "metadata": {},
   "source": [
    "Let us fill missing values using KNN imputer\n",
    "\n",
    "#before we proceed to fill using missing values, we need to scale our data. Let us use MInMax scaler to scale the values between 0 and 1"
   ]
  },
  {
   "cell_type": "markdown",
   "id": "784abbca",
   "metadata": {},
   "source": [
    "# Scaling the data"
   ]
  },
  {
   "cell_type": "markdown",
   "id": "55d4913b",
   "metadata": {},
   "source": [
    "Let us split dependent variable and independent variable."
   ]
  },
  {
   "cell_type": "code",
   "execution_count": 87,
   "id": "bfb8b236",
   "metadata": {},
   "outputs": [],
   "source": [
    "x=df.drop(['Classification'],axis=1)\n",
    "y=df['Classification']"
   ]
  },
  {
   "cell_type": "code",
   "execution_count": 88,
   "id": "b9608c66",
   "metadata": {},
   "outputs": [],
   "source": [
    "from sklearn.preprocessing import MinMaxScaler\n",
    "scaler=MinMaxScaler()\n",
    "df=pd.DataFrame(scaler.fit_transform(x),columns=x.columns)"
   ]
  },
  {
   "cell_type": "code",
   "execution_count": 89,
   "id": "a82fabec",
   "metadata": {},
   "outputs": [
    {
     "data": {
      "text/html": [
       "<div>\n",
       "<style scoped>\n",
       "    .dataframe tbody tr th:only-of-type {\n",
       "        vertical-align: middle;\n",
       "    }\n",
       "\n",
       "    .dataframe tbody tr th {\n",
       "        vertical-align: top;\n",
       "    }\n",
       "\n",
       "    .dataframe thead th {\n",
       "        text-align: right;\n",
       "    }\n",
       "</style>\n",
       "<table border=\"1\" class=\"dataframe\">\n",
       "  <thead>\n",
       "    <tr style=\"text-align: right;\">\n",
       "      <th></th>\n",
       "      <th>SL</th>\n",
       "      <th>SW</th>\n",
       "      <th>PL</th>\n",
       "      <th>PW</th>\n",
       "    </tr>\n",
       "  </thead>\n",
       "  <tbody>\n",
       "    <tr>\n",
       "      <th>0</th>\n",
       "      <td>5.1</td>\n",
       "      <td>3.5</td>\n",
       "      <td>1.4</td>\n",
       "      <td>0.2</td>\n",
       "    </tr>\n",
       "    <tr>\n",
       "      <th>1</th>\n",
       "      <td>4.9</td>\n",
       "      <td>3.0</td>\n",
       "      <td>1.4</td>\n",
       "      <td>0.2</td>\n",
       "    </tr>\n",
       "    <tr>\n",
       "      <th>2</th>\n",
       "      <td>NaN</td>\n",
       "      <td>3.2</td>\n",
       "      <td>1.3</td>\n",
       "      <td>0.2</td>\n",
       "    </tr>\n",
       "    <tr>\n",
       "      <th>3</th>\n",
       "      <td>4.6</td>\n",
       "      <td>3.1</td>\n",
       "      <td>1.5</td>\n",
       "      <td>0.2</td>\n",
       "    </tr>\n",
       "    <tr>\n",
       "      <th>4</th>\n",
       "      <td>5.0</td>\n",
       "      <td>3.6</td>\n",
       "      <td>1.4</td>\n",
       "      <td>0.2</td>\n",
       "    </tr>\n",
       "    <tr>\n",
       "      <th>...</th>\n",
       "      <td>...</td>\n",
       "      <td>...</td>\n",
       "      <td>...</td>\n",
       "      <td>...</td>\n",
       "    </tr>\n",
       "    <tr>\n",
       "      <th>145</th>\n",
       "      <td>6.7</td>\n",
       "      <td>3.0</td>\n",
       "      <td>5.2</td>\n",
       "      <td>2.3</td>\n",
       "    </tr>\n",
       "    <tr>\n",
       "      <th>146</th>\n",
       "      <td>6.3</td>\n",
       "      <td>2.5</td>\n",
       "      <td>5.0</td>\n",
       "      <td>1.9</td>\n",
       "    </tr>\n",
       "    <tr>\n",
       "      <th>147</th>\n",
       "      <td>6.5</td>\n",
       "      <td>3.0</td>\n",
       "      <td>NaN</td>\n",
       "      <td>2.0</td>\n",
       "    </tr>\n",
       "    <tr>\n",
       "      <th>148</th>\n",
       "      <td>6.2</td>\n",
       "      <td>3.4</td>\n",
       "      <td>5.4</td>\n",
       "      <td>2.3</td>\n",
       "    </tr>\n",
       "    <tr>\n",
       "      <th>149</th>\n",
       "      <td>5.9</td>\n",
       "      <td>3.0</td>\n",
       "      <td>5.1</td>\n",
       "      <td>1.8</td>\n",
       "    </tr>\n",
       "  </tbody>\n",
       "</table>\n",
       "<p>150 rows × 4 columns</p>\n",
       "</div>"
      ],
      "text/plain": [
       "      SL   SW   PL   PW\n",
       "0    5.1  3.5  1.4  0.2\n",
       "1    4.9  3.0  1.4  0.2\n",
       "2    NaN  3.2  1.3  0.2\n",
       "3    4.6  3.1  1.5  0.2\n",
       "4    5.0  3.6  1.4  0.2\n",
       "..   ...  ...  ...  ...\n",
       "145  6.7  3.0  5.2  2.3\n",
       "146  6.3  2.5  5.0  1.9\n",
       "147  6.5  3.0  NaN  2.0\n",
       "148  6.2  3.4  5.4  2.3\n",
       "149  5.9  3.0  5.1  1.8\n",
       "\n",
       "[150 rows x 4 columns]"
      ]
     },
     "execution_count": 89,
     "metadata": {},
     "output_type": "execute_result"
    }
   ],
   "source": [
    "x"
   ]
  },
  {
   "cell_type": "markdown",
   "id": "a060b0ac",
   "metadata": {},
   "source": [
    "Let us proceed to impute the missing values using KNNImputer, as ur data has been normalized and our classification has been encoded too"
   ]
  },
  {
   "cell_type": "code",
   "execution_count": 91,
   "id": "7662b05b",
   "metadata": {},
   "outputs": [],
   "source": [
    "from sklearn.impute import KNNImputer"
   ]
  },
  {
   "cell_type": "code",
   "execution_count": 92,
   "id": "c7a88c61",
   "metadata": {},
   "outputs": [],
   "source": [
    "Knn=KNNImputer(n_neighbors=5)"
   ]
  },
  {
   "cell_type": "code",
   "execution_count": 93,
   "id": "f158144b",
   "metadata": {},
   "outputs": [],
   "source": [
    "x=pd.DataFrame(Knn.fit_transform(x),columns=x.columns)"
   ]
  },
  {
   "cell_type": "code",
   "execution_count": 94,
   "id": "759fa56f",
   "metadata": {},
   "outputs": [
    {
     "data": {
      "text/plain": [
       "SL    0\n",
       "SW    0\n",
       "PL    0\n",
       "PW    0\n",
       "dtype: int64"
      ]
     },
     "execution_count": 94,
     "metadata": {},
     "output_type": "execute_result"
    }
   ],
   "source": [
    "#let us recheck if there is any missing value\n",
    "x.isna().sum()"
   ]
  },
  {
   "cell_type": "markdown",
   "id": "60882927",
   "metadata": {},
   "source": [
    "There are no missing values in our data."
   ]
  },
  {
   "cell_type": "markdown",
   "id": "984656e2",
   "metadata": {},
   "source": [
    "# checking outlier"
   ]
  },
  {
   "cell_type": "code",
   "execution_count": 95,
   "id": "77b20f3a",
   "metadata": {},
   "outputs": [],
   "source": [
    "#let us check outlier on three numerical features\n",
    "outlier_detection=x[['SL','SW','PL','PW']]"
   ]
  },
  {
   "cell_type": "code",
   "execution_count": 96,
   "id": "847e872e",
   "metadata": {},
   "outputs": [
    {
     "data": {
      "text/html": [
       "<div>\n",
       "<style scoped>\n",
       "    .dataframe tbody tr th:only-of-type {\n",
       "        vertical-align: middle;\n",
       "    }\n",
       "\n",
       "    .dataframe tbody tr th {\n",
       "        vertical-align: top;\n",
       "    }\n",
       "\n",
       "    .dataframe thead th {\n",
       "        text-align: right;\n",
       "    }\n",
       "</style>\n",
       "<table border=\"1\" class=\"dataframe\">\n",
       "  <thead>\n",
       "    <tr style=\"text-align: right;\">\n",
       "      <th></th>\n",
       "      <th>SL</th>\n",
       "      <th>SW</th>\n",
       "      <th>PL</th>\n",
       "      <th>PW</th>\n",
       "    </tr>\n",
       "  </thead>\n",
       "  <tbody>\n",
       "    <tr>\n",
       "      <th>0</th>\n",
       "      <td>5.10</td>\n",
       "      <td>3.5</td>\n",
       "      <td>1.4</td>\n",
       "      <td>0.2</td>\n",
       "    </tr>\n",
       "    <tr>\n",
       "      <th>1</th>\n",
       "      <td>4.90</td>\n",
       "      <td>3.0</td>\n",
       "      <td>1.4</td>\n",
       "      <td>0.2</td>\n",
       "    </tr>\n",
       "    <tr>\n",
       "      <th>2</th>\n",
       "      <td>4.68</td>\n",
       "      <td>3.2</td>\n",
       "      <td>1.3</td>\n",
       "      <td>0.2</td>\n",
       "    </tr>\n",
       "    <tr>\n",
       "      <th>3</th>\n",
       "      <td>4.60</td>\n",
       "      <td>3.1</td>\n",
       "      <td>1.5</td>\n",
       "      <td>0.2</td>\n",
       "    </tr>\n",
       "    <tr>\n",
       "      <th>4</th>\n",
       "      <td>5.00</td>\n",
       "      <td>3.6</td>\n",
       "      <td>1.4</td>\n",
       "      <td>0.2</td>\n",
       "    </tr>\n",
       "    <tr>\n",
       "      <th>...</th>\n",
       "      <td>...</td>\n",
       "      <td>...</td>\n",
       "      <td>...</td>\n",
       "      <td>...</td>\n",
       "    </tr>\n",
       "    <tr>\n",
       "      <th>145</th>\n",
       "      <td>6.70</td>\n",
       "      <td>3.0</td>\n",
       "      <td>5.2</td>\n",
       "      <td>2.3</td>\n",
       "    </tr>\n",
       "    <tr>\n",
       "      <th>146</th>\n",
       "      <td>6.30</td>\n",
       "      <td>2.5</td>\n",
       "      <td>5.0</td>\n",
       "      <td>1.9</td>\n",
       "    </tr>\n",
       "    <tr>\n",
       "      <th>147</th>\n",
       "      <td>6.50</td>\n",
       "      <td>3.0</td>\n",
       "      <td>5.5</td>\n",
       "      <td>2.0</td>\n",
       "    </tr>\n",
       "    <tr>\n",
       "      <th>148</th>\n",
       "      <td>6.20</td>\n",
       "      <td>3.4</td>\n",
       "      <td>5.4</td>\n",
       "      <td>2.3</td>\n",
       "    </tr>\n",
       "    <tr>\n",
       "      <th>149</th>\n",
       "      <td>5.90</td>\n",
       "      <td>3.0</td>\n",
       "      <td>5.1</td>\n",
       "      <td>1.8</td>\n",
       "    </tr>\n",
       "  </tbody>\n",
       "</table>\n",
       "<p>150 rows × 4 columns</p>\n",
       "</div>"
      ],
      "text/plain": [
       "       SL   SW   PL   PW\n",
       "0    5.10  3.5  1.4  0.2\n",
       "1    4.90  3.0  1.4  0.2\n",
       "2    4.68  3.2  1.3  0.2\n",
       "3    4.60  3.1  1.5  0.2\n",
       "4    5.00  3.6  1.4  0.2\n",
       "..    ...  ...  ...  ...\n",
       "145  6.70  3.0  5.2  2.3\n",
       "146  6.30  2.5  5.0  1.9\n",
       "147  6.50  3.0  5.5  2.0\n",
       "148  6.20  3.4  5.4  2.3\n",
       "149  5.90  3.0  5.1  1.8\n",
       "\n",
       "[150 rows x 4 columns]"
      ]
     },
     "execution_count": 96,
     "metadata": {},
     "output_type": "execute_result"
    }
   ],
   "source": [
    "outlier_detection"
   ]
  },
  {
   "cell_type": "code",
   "execution_count": 97,
   "id": "d9303b56",
   "metadata": {},
   "outputs": [],
   "source": [
    "def IQR_values(dataframe,column_name):\n",
    "    q1=dataframe[column_name].quantile(0.25)\n",
    "    q2=dataframe[column_name].quantile(0.50)\n",
    "    q3=dataframe[column_name].quantile(0.75)\n",
    "    IQR=q3-q1\n",
    "    lower_limit=q1-1.5*IQR\n",
    "    upper_limit=q3+1.5*IQR\n",
    "    return lower_limit,upper_limit\n",
    "\n",
    "outlier={}\n",
    "for i in outlier_detection:\n",
    "    lower_limit,upper_limit=IQR_values(outlier_detection,i)\n",
    "    outlier[i]=[lower_limit,upper_limit]\n"
   ]
  },
  {
   "cell_type": "code",
   "execution_count": 98,
   "id": "d4b9b796",
   "metadata": {},
   "outputs": [
    {
     "data": {
      "text/plain": [
       "{'SL': [3.1624999999999983, 8.342500000000001],\n",
       " 'SW': [2.05, 4.05],\n",
       " 'PL': [-3.649999999999999, 10.349999999999998],\n",
       " 'PW': [-1.95, 4.05]}"
      ]
     },
     "execution_count": 98,
     "metadata": {},
     "output_type": "execute_result"
    }
   ],
   "source": [
    "outlier"
   ]
  },
  {
   "cell_type": "code",
   "execution_count": 99,
   "id": "e1b3fd03",
   "metadata": {},
   "outputs": [],
   "source": [
    "SL_outlier=(x['SL']<outlier['SL'][0])|(x['SL']>outlier['SL'][1])#lets check outlier on SL"
   ]
  },
  {
   "cell_type": "code",
   "execution_count": 100,
   "id": "e125fa35",
   "metadata": {},
   "outputs": [
    {
     "data": {
      "text/plain": [
       "Int64Index([], dtype='int64')"
      ]
     },
     "execution_count": 100,
     "metadata": {},
     "output_type": "execute_result"
    }
   ],
   "source": [
    "x.loc[SL_outlier].index"
   ]
  },
  {
   "cell_type": "markdown",
   "id": "fb8b1c9a",
   "metadata": {},
   "source": [
    "There are no outliers in SL feature"
   ]
  },
  {
   "cell_type": "code",
   "execution_count": 101,
   "id": "a2698f99",
   "metadata": {},
   "outputs": [],
   "source": [
    "SW_outlier=(x['SW']<outlier['SW'][0])|(x['SW']>outlier['SW'][1])#checking outlier on SW"
   ]
  },
  {
   "cell_type": "code",
   "execution_count": 102,
   "id": "c6692aee",
   "metadata": {},
   "outputs": [
    {
     "data": {
      "text/plain": [
       "Int64Index([15, 32, 33, 60], dtype='int64')"
      ]
     },
     "execution_count": 102,
     "metadata": {},
     "output_type": "execute_result"
    }
   ],
   "source": [
    "df.loc[SW_outlier].index"
   ]
  },
  {
   "cell_type": "markdown",
   "id": "91fee8f9",
   "metadata": {},
   "source": [
    "There are three outliers in SW feature, thus we need to drop these values"
   ]
  },
  {
   "cell_type": "code",
   "execution_count": 103,
   "id": "44ed6911",
   "metadata": {},
   "outputs": [],
   "source": [
    "df.drop([15, 32, 33, 60],inplace=True)"
   ]
  },
  {
   "cell_type": "markdown",
   "id": "4b66fb82",
   "metadata": {},
   "source": [
    "We have removed outlier from the SW feature"
   ]
  },
  {
   "cell_type": "code",
   "execution_count": 104,
   "id": "627a8977",
   "metadata": {},
   "outputs": [],
   "source": [
    "PL_outlier=(x['PL']<outlier['PL'][0])|(x['PL']>outlier['PL'][1])#checking outlier on pl"
   ]
  },
  {
   "cell_type": "code",
   "execution_count": 105,
   "id": "92a1386e",
   "metadata": {
    "scrolled": true
   },
   "outputs": [
    {
     "data": {
      "text/plain": [
       "Int64Index([], dtype='int64')"
      ]
     },
     "execution_count": 105,
     "metadata": {},
     "output_type": "execute_result"
    }
   ],
   "source": [
    "df.loc[PL_outlier].index"
   ]
  },
  {
   "cell_type": "markdown",
   "id": "1d89144d",
   "metadata": {},
   "source": [
    "There are no outliers in PL feature."
   ]
  },
  {
   "cell_type": "code",
   "execution_count": 106,
   "id": "f69774d6",
   "metadata": {},
   "outputs": [],
   "source": [
    "PW_outlier=(x['PW']<outlier['PW'][0])|(x['PW']>outlier['PW'][1])#checking outlier on pw"
   ]
  },
  {
   "cell_type": "code",
   "execution_count": 107,
   "id": "d34ac076",
   "metadata": {},
   "outputs": [
    {
     "data": {
      "text/plain": [
       "Int64Index([], dtype='int64')"
      ]
     },
     "execution_count": 107,
     "metadata": {},
     "output_type": "execute_result"
    }
   ],
   "source": [
    "df.loc[PW_outlier].index"
   ]
  },
  {
   "cell_type": "markdown",
   "id": "6bb8b5e7",
   "metadata": {},
   "source": [
    "There are no outliers in PW feature. "
   ]
  },
  {
   "cell_type": "markdown",
   "id": "05cbefea",
   "metadata": {},
   "source": [
    "We have scaled our data, filled missing values and handled outliers too. Now, we are good to proceed with the supervised machine learning algorithm"
   ]
  },
  {
   "cell_type": "markdown",
   "id": "2ce31eeb",
   "metadata": {},
   "source": [
    "# 3.Find out which classification model gives the best result to predict iris species.(also do random forest algorithm)"
   ]
  },
  {
   "cell_type": "markdown",
   "id": "a2137651",
   "metadata": {},
   "source": [
    "Before we proceed to implement any machine learning algorithm, let us split our dataset into train and test"
   ]
  },
  {
   "cell_type": "code",
   "execution_count": 108,
   "id": "7088439c",
   "metadata": {},
   "outputs": [],
   "source": [
    "from sklearn.model_selection import train_test_split"
   ]
  },
  {
   "cell_type": "code",
   "execution_count": 109,
   "id": "c67ca7c9",
   "metadata": {},
   "outputs": [],
   "source": [
    "x_train,x_test,y_train,y_test=train_test_split(x,y,random_state=42,test_size=0.20)"
   ]
  },
  {
   "cell_type": "code",
   "execution_count": 110,
   "id": "651d44a8",
   "metadata": {},
   "outputs": [
    {
     "data": {
      "text/plain": [
       "1    41\n",
       "0    40\n",
       "2    39\n",
       "Name: Classification, dtype: int64"
      ]
     },
     "execution_count": 110,
     "metadata": {},
     "output_type": "execute_result"
    }
   ],
   "source": [
    "y_train.value_counts()"
   ]
  },
  {
   "cell_type": "code",
   "execution_count": 111,
   "id": "dcaeca41",
   "metadata": {},
   "outputs": [
    {
     "name": "stdout",
     "output_type": "stream",
     "text": [
      "X-train shape is : (120, 4) Y-train shape is : (120,) X-test shape is: (30, 4) Y-test shape is : (30,)\n"
     ]
    }
   ],
   "source": [
    "print('X-train shape is :',x_train.shape,'Y-train shape is :',y_train.shape,'X-test shape is:',x_test.shape,'Y-test shape is :',y_test.shape, sep=' ',end='\\n')"
   ]
  },
  {
   "cell_type": "markdown",
   "id": "7f9f5eb8",
   "metadata": {},
   "source": [
    "# Decision Tree Algorithm"
   ]
  },
  {
   "cell_type": "code",
   "execution_count": 112,
   "id": "a9097846",
   "metadata": {},
   "outputs": [],
   "source": [
    "#importing decision tree\n",
    "from sklearn.tree import DecisionTreeClassifier\n",
    "decision_tree=DecisionTreeClassifier()"
   ]
  },
  {
   "cell_type": "code",
   "execution_count": 113,
   "id": "01969509",
   "metadata": {},
   "outputs": [
    {
     "data": {
      "text/plain": [
       "DecisionTreeClassifier()"
      ]
     },
     "execution_count": 113,
     "metadata": {},
     "output_type": "execute_result"
    }
   ],
   "source": [
    "decision_tree.fit(x_train,y_train)"
   ]
  },
  {
   "cell_type": "code",
   "execution_count": 114,
   "id": "9da7512f",
   "metadata": {},
   "outputs": [],
   "source": [
    "decision_tree_pred=decision_tree.predict(x_test)"
   ]
  },
  {
   "cell_type": "code",
   "execution_count": 115,
   "id": "6cf640aa",
   "metadata": {},
   "outputs": [
    {
     "data": {
      "text/plain": [
       "73     1\n",
       "18     0\n",
       "118    2\n",
       "78     1\n",
       "76     1\n",
       "31     0\n",
       "64     1\n",
       "141    2\n",
       "68     1\n",
       "82     1\n",
       "110    2\n",
       "12     0\n",
       "36     0\n",
       "9      0\n",
       "19     0\n",
       "56     1\n",
       "104    2\n",
       "69     1\n",
       "55     1\n",
       "132    2\n",
       "29     0\n",
       "127    2\n",
       "26     0\n",
       "128    2\n",
       "131    2\n",
       "145    2\n",
       "108    2\n",
       "143    2\n",
       "45     0\n",
       "30     0\n",
       "Name: Classification, dtype: int32"
      ]
     },
     "execution_count": 115,
     "metadata": {},
     "output_type": "execute_result"
    }
   ],
   "source": [
    "y_test"
   ]
  },
  {
   "cell_type": "code",
   "execution_count": 116,
   "id": "99f592b9",
   "metadata": {},
   "outputs": [
    {
     "data": {
      "text/plain": [
       "array([1, 0, 2, 1, 1, 0, 1, 2, 1, 1, 2, 0, 0, 0, 0, 1, 2, 1, 1, 2, 0, 2,\n",
       "       0, 2, 2, 2, 2, 2, 0, 0])"
      ]
     },
     "execution_count": 116,
     "metadata": {},
     "output_type": "execute_result"
    }
   ],
   "source": [
    "decision_tree_pred\n"
   ]
  },
  {
   "cell_type": "code",
   "execution_count": 117,
   "id": "a6875f87",
   "metadata": {},
   "outputs": [],
   "source": [
    "#let us import metrics to check our predictions\n",
    "from sklearn.metrics import accuracy_score,precision_score,recall_score,f1_score,confusion_matrix"
   ]
  },
  {
   "cell_type": "code",
   "execution_count": 118,
   "id": "ff3f7b96",
   "metadata": {},
   "outputs": [
    {
     "name": "stdout",
     "output_type": "stream",
     "text": [
      "Accuracy is:  1.0\n"
     ]
    }
   ],
   "source": [
    "print(\"Accuracy is: \",accuracy_score(y_test,decision_tree_pred,))"
   ]
  },
  {
   "cell_type": "code",
   "execution_count": 119,
   "id": "847f0e46",
   "metadata": {},
   "outputs": [
    {
     "name": "stdout",
     "output_type": "stream",
     "text": [
      "Recall score is:  1.0\n",
      "precision score is:  1.0\n"
     ]
    }
   ],
   "source": [
    "print('Recall score is: ',recall_score(y_test,decision_tree_pred,average='micro'))\n",
    "print('precision score is: ',precision_score(y_test,decision_tree_pred,average='micro'))\n"
   ]
  },
  {
   "cell_type": "code",
   "execution_count": 120,
   "id": "5a54b41c",
   "metadata": {},
   "outputs": [
    {
     "data": {
      "text/plain": [
       "'              precision    recall  f1-score   support\\n\\n           0       1.00      1.00      1.00        10\\n           1       1.00      1.00      1.00         9\\n           2       1.00      1.00      1.00        11\\n\\n    accuracy                           1.00        30\\n   macro avg       1.00      1.00      1.00        30\\nweighted avg       1.00      1.00      1.00        30\\n'"
      ]
     },
     "execution_count": 120,
     "metadata": {},
     "output_type": "execute_result"
    }
   ],
   "source": [
    "from sklearn.metrics import classification_report\n",
    "classification_report(y_test, decision_tree_pred)"
   ]
  },
  {
   "cell_type": "code",
   "execution_count": 121,
   "id": "ab43406d",
   "metadata": {},
   "outputs": [
    {
     "name": "stdout",
     "output_type": "stream",
     "text": [
      "f1 score is: 1.0\n"
     ]
    }
   ],
   "source": [
    "print('f1 score is:',f1_score(y_test,decision_tree_pred,average='micro'))"
   ]
  },
  {
   "cell_type": "code",
   "execution_count": 122,
   "id": "7983dcfc",
   "metadata": {},
   "outputs": [],
   "source": [
    "#create confusion matrix\n",
    "cm=confusion_matrix(y_test,decision_tree_pred)"
   ]
  },
  {
   "cell_type": "code",
   "execution_count": 123,
   "id": "7ff37e92",
   "metadata": {},
   "outputs": [],
   "source": [
    "# Creating a dataframe for a array-formatted Confusion matrix, for plotting confusion matrix\n",
    "cm_df = pd.DataFrame(cm,index = ['SETOSA','VERSICOLR','VIRGINICA'],columns = ['SETOSA','VERSICOLR','VIRGINICA'])"
   ]
  },
  {
   "cell_type": "code",
   "execution_count": 124,
   "id": "928311eb",
   "metadata": {},
   "outputs": [
    {
     "data": {
      "image/png": "[encoded data removed]",
      "text/plain": [
       "<Figure size 360x576 with 2 Axes>"
      ]
     },
     "metadata": {
      "needs_background": "light"
     },
     "output_type": "display_data"
    }
   ],
   "source": [
    "plt.figure(figsize=(5,8))\n",
    "sns.heatmap(cm_df,annot=True)\n",
    "plt.title('confusion matrix')\n",
    "plt.xlabel('Predicted values')\n",
    "plt.ylabel('Actual values')\n",
    "plt.show()"
   ]
  },
  {
   "cell_type": "markdown",
   "id": "311c2c60",
   "metadata": {},
   "source": [
    "We can see that the precision, recall,f1-score value is 1 for the decision tree. This model is an over fitting model, we have to reject it. "
   ]
  },
  {
   "cell_type": "markdown",
   "id": "826488a3",
   "metadata": {},
   "source": [
    "We can depict the TP,TN,FP,FN from the above confusion matrix.\n",
    "let us find these values for class 'setosa'.\n",
    "we can find :-\n",
    "\n",
    "TP (the true positive is where the actual value and the predicted value are the same)\n",
    "TP=10 (cell1)\n",
    "\n",
    "TN (the true negative value for a class will be the sum of all columns and rows except the values of the class that we are calculating)\n",
    "TN=9+0+0+11 (cell5+cell6+cell8+cell9)\n",
    "TN=20\n",
    "\n",
    "FP (the false positive value for a class will be the sum of values of corresponding columns except for the TP values.)\n",
    "FP=0+0 (cell4+cell7)\n",
    "FP=0\n",
    "\n",
    "FN(the false negative value for a class will be the sum of values of corresponding rows except for the TP values)\n",
    "FN=0+0 (cell2+cell3)\n",
    "FN=0"
   ]
  },
  {
   "cell_type": "markdown",
   "id": "c999681f",
   "metadata": {},
   "source": [
    "# SVM"
   ]
  },
  {
   "cell_type": "code",
   "execution_count": 125,
   "id": "0f7d4997",
   "metadata": {},
   "outputs": [],
   "source": [
    "#importing SVM using Radial basis function kernel\n",
    "from sklearn.svm import SVC\n",
    "svm_radial=SVC(kernel='rbf')"
   ]
  },
  {
   "cell_type": "code",
   "execution_count": 126,
   "id": "67078a21",
   "metadata": {},
   "outputs": [
    {
     "data": {
      "text/plain": [
       "SVC()"
      ]
     },
     "execution_count": 126,
     "metadata": {},
     "output_type": "execute_result"
    }
   ],
   "source": [
    "svm_radial.fit(x_train,y_train)"
   ]
  },
  {
   "cell_type": "code",
   "execution_count": 127,
   "id": "8ffddd11",
   "metadata": {},
   "outputs": [],
   "source": [
    "svm_radial_pred=svm_radial.predict(x_test)"
   ]
  },
  {
   "cell_type": "code",
   "execution_count": 128,
   "id": "6719f129",
   "metadata": {},
   "outputs": [
    {
     "data": {
      "text/plain": [
       "'              precision    recall  f1-score   support\\n\\n           0       1.00      1.00      1.00        10\\n           1       1.00      1.00      1.00         9\\n           2       1.00      1.00      1.00        11\\n\\n    accuracy                           1.00        30\\n   macro avg       1.00      1.00      1.00        30\\nweighted avg       1.00      1.00      1.00        30\\n'"
      ]
     },
     "execution_count": 128,
     "metadata": {},
     "output_type": "execute_result"
    }
   ],
   "source": [
    "classification_report(y_test,svm_radial_pred)"
   ]
  },
  {
   "cell_type": "code",
   "execution_count": 129,
   "id": "3ad7c458",
   "metadata": {},
   "outputs": [
    {
     "name": "stdout",
     "output_type": "stream",
     "text": [
      "Accuracy for SVM radial basis function is: 1.0\n",
      "Recall value for SVM radial basis function is:  1.0\n",
      "precision value for SVM radial basis function is:  1.0\n",
      "f1 score for SVM radial basis function is:  1.0\n"
     ]
    }
   ],
   "source": [
    "print('Accuracy for SVM radial basis function is:',accuracy_score(y_test,svm_radial_pred))\n",
    "print('Recall value for SVM radial basis function is: ',recall_score(y_test,svm_radial_pred,average='micro'))\n",
    "print('precision value for SVM radial basis function is: ',precision_score(y_test,svm_radial_pred,average='micro'))\n",
    "print('f1 score for SVM radial basis function is: ',f1_score(y_test,svm_radial_pred,average='micro'))"
   ]
  },
  {
   "cell_type": "code",
   "execution_count": 130,
   "id": "efc364ee",
   "metadata": {},
   "outputs": [],
   "source": [
    "#let us use linear kernel\n",
    "svm_linear=SVC(kernel='linear')"
   ]
  },
  {
   "cell_type": "code",
   "execution_count": 131,
   "id": "2fe1efce",
   "metadata": {},
   "outputs": [
    {
     "data": {
      "text/plain": [
       "SVC(kernel='linear')"
      ]
     },
     "execution_count": 131,
     "metadata": {},
     "output_type": "execute_result"
    }
   ],
   "source": [
    "svm_linear.fit(x_train,y_train)"
   ]
  },
  {
   "cell_type": "code",
   "execution_count": 132,
   "id": "01b432ad",
   "metadata": {},
   "outputs": [],
   "source": [
    "svm_linear_pred=svm_linear.predict(x_test)"
   ]
  },
  {
   "cell_type": "code",
   "execution_count": 133,
   "id": "24ed561d",
   "metadata": {},
   "outputs": [
    {
     "data": {
      "text/plain": [
       "'              precision    recall  f1-score   support\\n\\n           0       1.00      1.00      1.00        10\\n           1       1.00      1.00      1.00         9\\n           2       1.00      1.00      1.00        11\\n\\n    accuracy                           1.00        30\\n   macro avg       1.00      1.00      1.00        30\\nweighted avg       1.00      1.00      1.00        30\\n'"
      ]
     },
     "execution_count": 133,
     "metadata": {},
     "output_type": "execute_result"
    }
   ],
   "source": [
    "classification_report(y_test,svm_linear_pred)"
   ]
  },
  {
   "cell_type": "code",
   "execution_count": 134,
   "id": "efd27e1b",
   "metadata": {},
   "outputs": [
    {
     "name": "stdout",
     "output_type": "stream",
     "text": [
      "Accuracy for SVM linear is: 1.0\n",
      "Recall value for SVM linear is:  1.0\n",
      "precision value for SVM linear is:  1.0\n",
      "f1 score for SVM linear is:  1.0\n"
     ]
    }
   ],
   "source": [
    "print('Accuracy for SVM linear is:',accuracy_score(y_test,svm_linear_pred))\n",
    "print('Recall value for SVM linear is: ',recall_score(y_test,svm_linear_pred,average='micro'))\n",
    "print('precision value for SVM linear is: ',precision_score(y_test,svm_linear_pred,average='micro'))\n",
    "print('f1 score for SVM linear is: ',f1_score(y_test,svm_linear_pred,average='micro'))"
   ]
  },
  {
   "cell_type": "code",
   "execution_count": 135,
   "id": "d8e13b54",
   "metadata": {},
   "outputs": [],
   "source": [
    "#let us use polynomial kernel\n",
    "svm_poly=SVC(kernel='poly',degree=5)"
   ]
  },
  {
   "cell_type": "code",
   "execution_count": 136,
   "id": "89c8ec7d",
   "metadata": {},
   "outputs": [
    {
     "data": {
      "text/plain": [
       "SVC(degree=5, kernel='poly')"
      ]
     },
     "execution_count": 136,
     "metadata": {},
     "output_type": "execute_result"
    }
   ],
   "source": [
    "svm_poly.fit(x_train,y_train)"
   ]
  },
  {
   "cell_type": "code",
   "execution_count": 137,
   "id": "284f06f7",
   "metadata": {},
   "outputs": [],
   "source": [
    "svm_poly_pred=svm_poly.predict(x_test)"
   ]
  },
  {
   "cell_type": "code",
   "execution_count": 138,
   "id": "c4b82bfb",
   "metadata": {},
   "outputs": [
    {
     "data": {
      "text/plain": [
       "'              precision    recall  f1-score   support\\n\\n           0       1.00      1.00      1.00        10\\n           1       0.89      0.89      0.89         9\\n           2       0.91      0.91      0.91        11\\n\\n    accuracy                           0.93        30\\n   macro avg       0.93      0.93      0.93        30\\nweighted avg       0.93      0.93      0.93        30\\n'"
      ]
     },
     "execution_count": 138,
     "metadata": {},
     "output_type": "execute_result"
    }
   ],
   "source": [
    "classification_report(y_test,svm_poly_pred)"
   ]
  },
  {
   "cell_type": "code",
   "execution_count": 139,
   "id": "31fbd747",
   "metadata": {},
   "outputs": [
    {
     "data": {
      "image/png": "[encoded data removed]",
      "text/plain": [
       "<Figure size 360x576 with 2 Axes>"
      ]
     },
     "metadata": {
      "needs_background": "light"
     },
     "output_type": "display_data"
    }
   ],
   "source": [
    "#create confusion matrix\n",
    "cm=confusion_matrix(y_test,svm_poly_pred)\n",
    "# Creating a dataframe for a array-formatted Confusion matrix, for plotting confusion matrix\n",
    "cm_df = pd.DataFrame(cm,index = ['SETOSA','VERSICOLR','VIRGINICA'],columns = ['SETOSA','VERSICOLR','VIRGINICA'])\n",
    "plt.figure(figsize=(5,8))\n",
    "sns.heatmap(cm_df,annot=True)\n",
    "plt.title('confusion matrix')\n",
    "plt.xlabel('Predicted values')\n",
    "plt.ylabel('Actual values')\n",
    "plt.show()"
   ]
  },
  {
   "cell_type": "code",
   "execution_count": 140,
   "id": "6d8c5b00",
   "metadata": {},
   "outputs": [
    {
     "name": "stdout",
     "output_type": "stream",
     "text": [
      "Accuracy for SVM polynomial is: 0.9333333333333333\n",
      "Recall value for SVM polynomial is:  0.9333333333333333\n",
      "precision value for SVM polynomial is:  0.9333333333333333\n",
      "f1 score for SVM polynomial is:  0.9333333333333333\n"
     ]
    }
   ],
   "source": [
    "print('Accuracy for SVM polynomial is:',accuracy_score(y_test,svm_poly_pred))\n",
    "print('Recall value for SVM polynomial is: ',recall_score(y_test,svm_poly_pred,average='micro'))\n",
    "print('precision value for SVM polynomial is: ',precision_score(y_test,svm_poly_pred,average='micro'))\n",
    "print('f1 score for SVM polynomial is: ',f1_score(y_test,svm_poly_pred,average='micro'))"
   ]
  },
  {
   "cell_type": "markdown",
   "id": "b8d1d4a6",
   "metadata": {},
   "source": [
    "From the above three kernels, we can see that SVM polynomial based kernel gives the best model, whereas other models overfits our data. Hence, we can use SVM polynomial.\n",
    "\n",
    "Let us implement random forest as well"
   ]
  },
  {
   "cell_type": "markdown",
   "id": "8ebe2f18",
   "metadata": {},
   "source": [
    "# Random Forest"
   ]
  },
  {
   "cell_type": "code",
   "execution_count": 141,
   "id": "3b1a3ee2",
   "metadata": {},
   "outputs": [],
   "source": [
    "#importing Randome Forest\n",
    "from sklearn.ensemble import RandomForestClassifier"
   ]
  },
  {
   "cell_type": "code",
   "execution_count": 142,
   "id": "c32a04a6",
   "metadata": {},
   "outputs": [
    {
     "data": {
      "text/plain": [
       "RandomForestClassifier()"
      ]
     },
     "execution_count": 142,
     "metadata": {},
     "output_type": "execute_result"
    }
   ],
   "source": [
    "rf=RandomForestClassifier()\n",
    "rf.fit(x_train,y_train)"
   ]
  },
  {
   "cell_type": "code",
   "execution_count": 143,
   "id": "e0c84df4",
   "metadata": {},
   "outputs": [],
   "source": [
    "rf_pred=rf.predict(x_test)"
   ]
  },
  {
   "cell_type": "code",
   "execution_count": 144,
   "id": "09372388",
   "metadata": {},
   "outputs": [
    {
     "data": {
      "text/plain": [
       "'              precision    recall  f1-score   support\\n\\n           0       1.00      1.00      1.00        10\\n           1       1.00      1.00      1.00         9\\n           2       1.00      1.00      1.00        11\\n\\n    accuracy                           1.00        30\\n   macro avg       1.00      1.00      1.00        30\\nweighted avg       1.00      1.00      1.00        30\\n'"
      ]
     },
     "execution_count": 144,
     "metadata": {},
     "output_type": "execute_result"
    }
   ],
   "source": [
    "#let us check our model accuracy, precision, recall\n",
    "classification_report(y_test,rf_pred)"
   ]
  },
  {
   "cell_type": "code",
   "execution_count": 145,
   "id": "604a109c",
   "metadata": {},
   "outputs": [
    {
     "name": "stdout",
     "output_type": "stream",
     "text": [
      "Accuracy for Random Forest is: 1.0\n",
      "Recall value for Random Forest is:  1.0\n",
      "precision value for Random Forest is:  1.0\n",
      "f1 score for Random Forest is:  1.0\n"
     ]
    }
   ],
   "source": [
    "print('Accuracy for Random Forest is:',accuracy_score(y_test,rf_pred))\n",
    "print('Recall value for Random Forest is: ',recall_score(y_test,rf_pred,average='micro'))\n",
    "print('precision value for Random Forest is: ',precision_score(y_test,rf_pred,average='micro'))\n",
    "print('f1 score for Random Forest is: ',f1_score(y_test,rf_pred,average='micro'))"
   ]
  },
  {
   "cell_type": "markdown",
   "id": "a05f3edf",
   "metadata": {},
   "source": [
    "Our Random Forest model is over fitting our data.\n",
    "Let us do some hyper parameter tunning and see how it works"
   ]
  },
  {
   "cell_type": "code",
   "execution_count": 146,
   "id": "38049159",
   "metadata": {},
   "outputs": [],
   "source": [
    "rf_tune=RandomForestClassifier(n_estimators=5, criterion='entropy',max_depth=10,min_samples_split=5)"
   ]
  },
  {
   "cell_type": "code",
   "execution_count": 147,
   "id": "7d267715",
   "metadata": {},
   "outputs": [
    {
     "data": {
      "text/plain": [
       "RandomForestClassifier(criterion='entropy', max_depth=10, min_samples_split=5,\n",
       "                       n_estimators=5)"
      ]
     },
     "execution_count": 147,
     "metadata": {},
     "output_type": "execute_result"
    }
   ],
   "source": [
    "rf_tune.fit(x_train,y_train)"
   ]
  },
  {
   "cell_type": "code",
   "execution_count": 148,
   "id": "5645f934",
   "metadata": {},
   "outputs": [],
   "source": [
    "rf_tune_pred=rf_tune.predict(x_test)"
   ]
  },
  {
   "cell_type": "code",
   "execution_count": 149,
   "id": "641fa9d8",
   "metadata": {},
   "outputs": [
    {
     "data": {
      "text/plain": [
       "'              precision    recall  f1-score   support\\n\\n           0       1.00      1.00      1.00        10\\n           1       1.00      1.00      1.00         9\\n           2       1.00      1.00      1.00        11\\n\\n    accuracy                           1.00        30\\n   macro avg       1.00      1.00      1.00        30\\nweighted avg       1.00      1.00      1.00        30\\n'"
      ]
     },
     "execution_count": 149,
     "metadata": {},
     "output_type": "execute_result"
    }
   ],
   "source": [
    "#let us check our model accuracy, precision, recall\n",
    "classification_report(y_test,rf_tune_pred)"
   ]
  },
  {
   "cell_type": "code",
   "execution_count": 150,
   "id": "d04a1f9c",
   "metadata": {},
   "outputs": [
    {
     "data": {
      "image/png": "[encoded data removed]",
      "text/plain": [
       "<Figure size 360x576 with 2 Axes>"
      ]
     },
     "metadata": {
      "needs_background": "light"
     },
     "output_type": "display_data"
    }
   ],
   "source": [
    "#create confusion matrix\n",
    "cm=confusion_matrix(y_test,rf_tune_pred)\n",
    "# Creating a dataframe for a array-formatted Confusion matrix, for plotting confusion matrix\n",
    "cm_df = pd.DataFrame(cm,index = ['SETOSA','VERSICOLR','VIRGINICA'],columns = ['SETOSA','VERSICOLR','VIRGINICA'])\n",
    "plt.figure(figsize=(5,8))\n",
    "sns.heatmap(cm_df,annot=True)\n",
    "plt.title('confusion matrix')\n",
    "plt.xlabel('Predicted values')\n",
    "plt.ylabel('Actual values')\n",
    "plt.show()"
   ]
  },
  {
   "cell_type": "code",
   "execution_count": 151,
   "id": "c3988a11",
   "metadata": {},
   "outputs": [
    {
     "name": "stdout",
     "output_type": "stream",
     "text": [
      "Accuracy for Random Forest is: 1.0\n",
      "Recall value for Random Forest is:  1.0\n",
      "precision value for Random Forest is:  1.0\n",
      "f1 score for Random Forest is:  1.0\n"
     ]
    }
   ],
   "source": [
    "print('Accuracy for Random Forest is:',accuracy_score(y_test,rf_tune_pred))\n",
    "print('Recall value for Random Forest is: ',recall_score(y_test,rf_tune_pred,average='weighted'))\n",
    "print('precision value for Random Forest is: ',precision_score(y_test,rf_tune_pred,average='weighted'))\n",
    "print('f1 score for Random Forest is: ',f1_score(y_test,rf_tune_pred,average='weighted'))"
   ]
  },
  {
   "cell_type": "markdown",
   "id": "b212969d",
   "metadata": {},
   "source": [
    "After we have done some hyper parameter tunning our model got improved, we can see the result above."
   ]
  },
  {
   "cell_type": "markdown",
   "id": "e8fc0f8b",
   "metadata": {},
   "source": [
    "From the above machine algorithms, we can choose Random Forest, it gives the best model after hyperparameter tunning. We can see that the accuracy,precision,recall and f1 score are same which is 0.96. Though, we got an accuracy of 0.93 from SVM polynomial alorithm too but random forest has more precision, accuracy. Rest of the models overfits, but we can do some hyper parameter tunning and make our model perfect. \n",
    "\n",
    "\n",
    "We can choose RandomForest Algorithm to implement on our dataset. "
   ]
  },
  {
   "cell_type": "code",
   "execution_count": null,
   "id": "4d553c6d",
   "metadata": {},
   "outputs": [],
   "source": []
  },
  {
   "cell_type": "code",
   "execution_count": null,
   "id": "763bf5ef",
   "metadata": {},
   "outputs": [],
   "source": []
  },
  {
   "cell_type": "code",
   "execution_count": null,
   "id": "2c11f9ab",
   "metadata": {},
   "outputs": [],
   "source": []
  },
  {
   "cell_type": "code",
   "execution_count": null,
   "id": "3e84978e",
   "metadata": {},
   "outputs": [],
   "source": []
  }
 ],
 "metadata": {
  "kernelspec": {
   "display_name": "Python 3",
   "language": "python",
   "name": "python3"
  },
  "language_info": {
   "codemirror_mode": {
    "name": "ipython",
    "version": 3
   },
   "file_extension": ".py",
   "mimetype": "text/x-python",
   "name": "python",
   "nbconvert_exporter": "python",
   "pygments_lexer": "ipython3",
   "version": "3.8.8"
  }
 },
 "nbformat": 4,
 "nbformat_minor": 5
}
